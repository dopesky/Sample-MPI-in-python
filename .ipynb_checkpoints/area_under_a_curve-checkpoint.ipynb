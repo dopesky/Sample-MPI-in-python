{
 "cells": [
  {
   "cell_type": "markdown",
   "metadata": {},
   "source": [
    "## Import the Necessary Dependencies\n",
    "**NB:** Download and install the dependencies using pip before importing them"
   ]
  },
  {
   "cell_type": "code",
   "execution_count": 1,
   "metadata": {},
   "outputs": [],
   "source": [
    "import numpy as np\n",
    "import matplotlib.pyplot as plt\n",
    "from scipy.interpolate import make_interp_spline, BSpline\n",
    "from mpi4py import MPI"
   ]
  },
  {
   "cell_type": "markdown",
   "metadata": {},
   "source": [
    "## Declare the x and y values"
   ]
  },
  {
   "cell_type": "code",
   "execution_count": 2,
   "metadata": {},
   "outputs": [],
   "source": [
    "y = np.array([4, 6, 6, 4, 4, 5])\n",
    "x = np.array([0, 2, 4, 6, 8, 10])"
   ]
  },
  {
   "cell_type": "markdown",
   "metadata": {},
   "source": [
    "## Display the Curve"
   ]
  },
  {
   "cell_type": "code",
   "execution_count": 3,
   "metadata": {},
   "outputs": [
    {
     "data": {
      "text/plain": [
       "[<matplotlib.lines.Line2D at 0x2035e0a5f08>]"
      ]
     },
     "execution_count": 3,
     "metadata": {},
     "output_type": "execute_result"
    },
    {
     "data": {
      "image/png": "[encoded data removed]",
      "text/plain": [
       "<Figure size 504x360 with 1 Axes>"
      ]
     },
     "metadata": {
      "needs_background": "light"
     },
     "output_type": "display_data"
    }
   ],
   "source": [
    "xnew = np.linspace(x.min(), x.max(), 1000)\n",
    "spl = make_interp_spline(x, y, k=3)\n",
    "ynew = spl(xnew)\n",
    "plt.figure(figsize=(7, 5))\n",
    "plt.grid()\n",
    "plt.ylim(0, 7)\n",
    "plt.xlim(0, 10)\n",
    "plt.fill_between(xnew, ynew)\n",
    "plt.plot(xnew, ynew)"
   ]
  },
  {
   "cell_type": "markdown",
   "metadata": {},
   "source": [
    "## Find Area Via Trapezoid Rule\n",
    "**NB:** Area under a curve using Trapezium Rule = h/2((y0 + yn) + 2(y1+y2 ... yn-1))"
   ]
  },
  {
   "cell_type": "code",
   "execution_count": 4,
   "metadata": {},
   "outputs": [
    {
     "name": "stdout",
     "output_type": "stream",
     "text": [
      "Area Under the Curve Via Trapezium Rule is  49.0 Units Squared\n"
     ]
    }
   ],
   "source": [
    "# Area using the formula above with n = 5\n",
    "area = 2/2 * ((4 + 5) + 2 * (6 + 6 + 4 + 4))\n",
    "print(\"Area Under the Curve Via Trapezium Rule is\", area, \"Units Squared\")"
   ]
  },
  {
   "cell_type": "markdown",
   "metadata": {},
   "source": [
    "## Use MPI to do a Sample Parallel Processing"
   ]
  },
  {
   "cell_type": "code",
   "execution_count": 7,
   "metadata": {},
   "outputs": [
    {
     "name": "stdout",
     "output_type": "stream",
     "text": [
      "Message:  Hello From: 1\n",
      "Message:  Hello From: 2\n",
      "Message:  Hello From: 3\n"
     ]
    }
   ],
   "source": [
    "!mpiexec -n 4 python -m mpi4py mpi_processing_sample.py"
   ]
  },
  {
   "cell_type": "markdown",
   "metadata": {},
   "source": [
    "## Use MPI to do the Above Calculation in Parallel Processes"
   ]
  },
  {
   "cell_type": "code",
   "execution_count": 8,
   "metadata": {},
   "outputs": [
    {
     "name": "stdout",
     "output_type": "stream",
     "text": [
      "Value from Process 1:  1\n",
      "Value from Process 2:  9\n",
      "Value from Process 3:  40\n",
      "Area Under the Curve Via Trapezium Rule is  49 Units Squared\n"
     ]
    }
   ],
   "source": [
    "!mpiexec -n 4 python -m mpi4py area_under_a_curve_mpi.py"
   ]
  },
  {
   "cell_type": "code",
   "execution_count": null,
   "metadata": {},
   "outputs": [],
   "source": []
  }
 ],
 "metadata": {
  "kernelspec": {
   "display_name": "Python 3",
   "language": "python",
   "name": "python3"
  },
  "language_info": {
   "codemirror_mode": {
    "name": "ipython",
    "version": 3
   },
   "file_extension": ".py",
   "mimetype": "text/x-python",
   "name": "python",
   "nbconvert_exporter": "python",
   "pygments_lexer": "ipython3",
   "version": "3.7.7"
  }
 },
 "nbformat": 4,
 "nbformat_minor": 4
}
